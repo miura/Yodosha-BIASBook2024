{
 "cells": [
  {
   "cell_type": "markdown",
   "metadata": {},
   "source": [
    "# Jupyterでnapariを起動する\n",
    "\n",
    "Jupyter Notebookから*napari*を起動する方法を説明する。\n",
    "\n",
    "## Hello World\n",
    "\n",
    "次のセルでは **「Hello World!」** を表示する。\n"
   ]
  },
  {
   "cell_type": "code",
   "execution_count": null,
   "metadata": {},
   "outputs": [],
   "source": [
    "print(\"Hello World!\")"
   ]
  },
  {
   "cell_type": "markdown",
   "metadata": {},
   "source": [
    "## napariでの画像表示\n"
   ]
  },
  {
   "cell_type": "code",
   "execution_count": null,
   "metadata": {},
   "outputs": [],
   "source": [
    "# skimageから3D画像を読み込む\n",
    "\n",
    "from skimage.data import cells3d\n",
    "\n",
    "# 画像の各次元のサイズを取得\n",
    "\n",
    "shape = cells3d().shape\n",
    "\n",
    "print(f'画像の各次元のサイズ: {shape}')\n"
   ]
  },
  {
   "cell_type": "code",
   "execution_count": null,
   "metadata": {},
   "outputs": [],
   "source": [
    "# 画像を個々のチャネルに分離\n",
    "\n",
    "cell3d_ch0 = cells3d()[:, 0, :, :]\n",
    "\n",
    "cell3d_ch1 = cells3d()[:, 1, :, :]\n",
    "\n",
    "# 画像の各次元のサイズを取得\n",
    "\n",
    "shape = cell3d_ch0.shape\n",
    "\n",
    "print(f'画像の各次元のサイズ: {shape}')\n"
   ]
  },
  {
   "cell_type": "code",
   "execution_count": null,
   "metadata": {},
   "outputs": [],
   "source": [
    "# napariをインポート\n",
    "\n",
    "import napari\n",
    "\n",
    "# napariのビューアーを作成\n",
    "\n",
    "viewer = napari.Viewer()\n",
    "\n",
    "# 画像を追加\n",
    "\n",
    "channel_0_img = viewer.add_image(cell3d_ch0, colormap='magenta', name='channel 0')\n",
    "\n",
    "channel_1_img= viewer.add_image(cell3d_ch1, colormap='green', name='channel 1')\n",
    "\n"
   ]
  },
  {
   "cell_type": "code",
   "execution_count": null,
   "metadata": {},
   "outputs": [],
   "source": [
    "viewer.layers['channel 0'].scale = [0.29, 0.26, 0.26]\n",
    "\n",
    "viewer.layers['channel 1'].scale = [0.29, 0.26, 0.26]"
   ]
  },
  {
   "cell_type": "code",
   "execution_count": null,
   "metadata": {},
   "outputs": [],
   "source": [
    "# napariビューアを閉じる\n",
    "\n",
    "viewer.close()"
   ]
  },
  {
   "cell_type": "markdown",
   "metadata": {},
   "source": [
    "## matplotlib での画像表示"
   ]
  },
  {
   "cell_type": "code",
   "execution_count": null,
   "metadata": {},
   "outputs": [],
   "source": [
    "# skimageからcell画像を読み込む\n",
    "\n",
    "from skimage.data import cell\n",
    "\n",
    "# matplotlib.pyplotをpltとしてインポート\n",
    "\n",
    "from matplotlib import pyplot as plt\n",
    "\n",
    "# cell画像を表示\n",
    "\n",
    "plt.imshow(cell())\n",
    "\n",
    "# 画像のタイトルを設定\n",
    "\n",
    "plt.title('cell')\n",
    "\n"
   ]
  },
  {
   "cell_type": "code",
   "execution_count": null,
   "metadata": {},
   "outputs": [],
   "source": [
    "import numpy as np\n",
    "\n",
    "cell2d_ch0 = np.max(cell3d_ch0, axis=0)\n",
    "\n",
    "cell2d_ch1 = np.max(cell3d_ch1, axis=0)\n",
    "\n",
    "# 画像の表示\n",
    "\n",
    "plt.subplot(1, 2, 1)\n",
    "\n",
    "plt.imshow(cell2d_ch0)\n",
    "\n",
    "plt.title('Channel 0')\n",
    "\n",
    "plt.subplot(1, 2, 2)\n",
    "\n",
    "plt.imshow(cell2d_ch1)\n",
    "\n",
    "plt.title('Channel 1')\n"
   ]
  },
  {
   "cell_type": "markdown",
   "metadata": {},
   "source": [
    "# Napari Layer(レイヤー)の紹介"
   ]
  },
  {
   "cell_type": "markdown",
   "metadata": {},
   "source": [
    "## 標識レイヤー(Labels Layer)\n",
    "### napariに標識レイヤーを追加する"
   ]
  },
  {
   "cell_type": "code",
   "execution_count": null,
   "metadata": {},
   "outputs": [],
   "source": [
    "import napari\n",
    "\n",
    "from skimage.filters import gaussian, threshold_otsu\n",
    "\n",
    "# napariのビューアーを作成\n",
    "\n",
    "viewer = napari.Viewer()\n",
    "\n",
    "# 2D画像を追加\n",
    "\n",
    "viewer.add_image(cell2d_ch0, colormap='magenta', name='channel 0')\n",
    "\n",
    "viewer.add_image(cell2d_ch1, colormap='green', name='channel 1')\n",
    "\n",
    "# cell2d_ch1に対してガウスぼかしを適用\n",
    "\n",
    "cell2d_ch1_blurred = gaussian(cell2d_ch1, sigma=1)\n",
    "\n",
    "viewer.add_image(cell2d_ch1_blurred, colormap='green', name='channel 1 blurred')\n",
    "\n",
    "# 大津の閾値処理を適用\n",
    "\n",
    "thresh = threshold_otsu(cell2d_ch1_blurred)\n",
    "\n",
    "# cell2d_ch1_blurred画像を核と背景(background)に分けた二値画像に変換する\n",
    "# 画素値がthresh以下と以上の画素を0 (背景)、1(核)に転換する\n",
    "cell2d_ch1_thresholded = cell2d_ch1_blurred > thresh\n",
    "\n",
    "viewer.add_image(cell2d_ch1_thresholded, colormap='viridis', name='channel 1 thresholded')\n",
    "\n"
   ]
  },
  {
   "cell_type": "code",
   "execution_count": null,
   "metadata": {},
   "outputs": [],
   "source": [
    "# 必要なライブラリをインポート\n",
    "\n",
    "from scipy.ndimage import binary_fill_holes\n",
    "\n",
    "from skimage.morphology import opening, disk\n",
    "\n",
    "from skimage.measure import label\n",
    "\n",
    "# cell2d_ch1_thresholdedに穴埋め操作を適用\n",
    "\n",
    "cell2d_ch1_filled = binary_fill_holes(cell2d_ch1_thresholded)\n",
    "\n",
    "viewer.add_image(cell2d_ch1_filled, colormap='viridis', name='channel 1 filled')\n",
    "\n",
    "# 開操作を適用\n",
    "\n",
    "cell2d_ch1_opened = opening(cell2d_ch1_filled, disk(5))\n",
    "\n",
    "viewer.add_image(cell2d_ch1_opened, colormap='viridis', name='channel 1 opened')\n",
    "\n",
    "# 連結成分分析を適用\n",
    "\n",
    "cell2d_ch1_labeled = label(cell2d_ch1_opened)\n",
    "\n",
    "label_layer = viewer.add_labels(cell2d_ch1_labeled, name='channel 1 labeled')\n",
    "\n"
   ]
  },
  {
   "cell_type": "markdown",
   "metadata": {},
   "source": [
    "### 標識レイヤーを画像で保存する"
   ]
  },
  {
   "cell_type": "code",
   "execution_count": null,
   "metadata": {},
   "outputs": [],
   "source": [
    "from skimage.measure import label\n",
    "\n",
    "from skimage.io import imsave\n",
    "\n",
    "import matplotlib.pyplot as plt\n",
    "\n",
    "import numpy as np\n",
    "\n",
    "# 標識レイヤーから標識データを取得\n",
    "\n",
    "labeled_image = label_layer.data\n",
    "\n",
    "# napariビューアを閉じる\n",
    "\n",
    "viewer.close()\n",
    "\n",
    "# 再標識前の重複を除いた要素を表示\n",
    "\n",
    "unique_labels = np.unique(labeled_image)\n",
    "\n",
    "print(f'再標識前のユニークな標識: {unique_labels}')\n",
    "\n",
    "# 画像を再標識\n",
    "\n",
    "cell2d_ch1_relabel = label(labeled_image)\n",
    "\n",
    "# 再標識後のユニークな要素を表示\n",
    "\n",
    "unique_labels = np.unique(cell2d_ch1_relabel)\n",
    "\n",
    "print(f'再標識後のユニークな標識: {unique_labels}')\n",
    "\n",
    "# 再標識された画像を表示\n",
    "\n",
    "plt.imshow(cell2d_ch1_relabel)\n",
    "\n",
    "plt.colorbar()\n",
    "\n",
    "plt.title('Channel 1 Relabeled')\n",
    "\n",
    "plt.show()\n",
    "\n",
    "# 再標識された画像を保存\n",
    "\n",
    "imsave('cell2d_ch1_relabel.tif', cell2d_ch1_relabel)\n"
   ]
  },
  {
   "cell_type": "markdown",
   "metadata": {},
   "source": [
    "### Regionpropsの紹介"
   ]
  },
  {
   "cell_type": "code",
   "execution_count": null,
   "metadata": {},
   "outputs": [],
   "source": [
    "import pandas as pd\n",
    "\n",
    "from skimage.measure import regionprops_table\n",
    "\n",
    "# 抽出するプロパティを定義\n",
    "\n",
    "properties = ['label', 'area', 'centroid', 'max_intensity', 'mean_intensity', 'min_intensity']\n",
    "\n",
    "# プロパティを抽出し、DataFrameに変換\n",
    "\n",
    "props_df = pd.DataFrame(regionprops_table(cell2d_ch1_relabel, cell2d_ch1, properties=properties))\n",
    "\n",
    "# DataFrameの最初の数行を表示\n",
    "\n",
    "props_df.head()\n"
   ]
  },
  {
   "cell_type": "code",
   "execution_count": null,
   "metadata": {},
   "outputs": [],
   "source": [
    "# 面積のヒストグラムを作成する\n",
    "\n",
    "plt.hist(props_df['area'])\n",
    "\n",
    "plt.xlabel('Area [pixels]')\n",
    "\n",
    "plt.ylabel('Cell count')\n",
    "\n",
    "plt.title('Cell Area Distribution')\n"
   ]
  },
  {
   "cell_type": "markdown",
   "metadata": {},
   "source": [
    "## 点群レイヤー（Points Layer)"
   ]
  },
  {
   "cell_type": "code",
   "execution_count": null,
   "metadata": {},
   "outputs": [],
   "source": [
    "from skimage.io import imread\n",
    "\n",
    "import napari\n",
    "\n",
    "# 画像の読み込み\n",
    "\n",
    "sample_image = imread('sample_images/particle_tracking_sample.tif')\n",
    "\n",
    "# 画像の各次元のサイズを表示\n",
    "\n",
    "print(f'sample_image の画像サイズ: {sample_image.shape}')\n",
    "\n",
    "# 画像をnapariで表示\n",
    "\n",
    "viewer = napari.Viewer()\n",
    "\n",
    "viewer.add_image(sample_image, name='sample_image')\n",
    "\n",
    "# タイムラプス視覚化のため、時間の次元をスケーリング\n",
    "\n",
    "viewer.layers['sample_image'].scale = [15, 1, 1]\n"
   ]
  },
  {
   "cell_type": "code",
   "execution_count": null,
   "metadata": {},
   "outputs": [],
   "source": [
    "import numpy as np\n",
    "\n",
    "import pandas as pd\n",
    "\n",
    "from skimage.filters import gaussian, threshold_otsu\n",
    "\n",
    "from skimage.measure import label, regionprops_table\n",
    "\n",
    "# 閾値処理された標識画像を格納するリスト\n",
    "\n",
    "labeled_images = []\n",
    "\n",
    "max_label_last_time_point = 0\n",
    "\n",
    "# 各タイムポイントで閾値処理とラベリングを適用\n",
    "\n",
    "for time_point in range(sample_image.shape[0]):\n",
    "\n",
    "    # ガウスフィルターで画像をスムージング\n",
    "\n",
    "    smoothed_image = gaussian(sample_image[time_point], sigma=1)\n",
    "\n",
    "    \n",
    "\n",
    "    # 大津の閾値処理を適用\n",
    "\n",
    "    thresholded_image = smoothed_image > threshold_otsu(smoothed_image)\n",
    "\n",
    "    \n",
    "\n",
    "    # 連結成分解析（ラベリング）を実行\n",
    "\n",
    "    labeled_image = label(thresholded_image)\n",
    "\n",
    "    \n",
    "\n",
    "    # タイムポイント間で標識が一意になるよう調整\n",
    "\n",
    "    labeled_image_unique = labeled_image + max_label_last_time_point\n",
    "\n",
    "    labeled_image_unique[labeled_image == 0] = 0\n",
    "\n",
    "    labeled_images.append(labeled_image_unique)\n",
    "\n",
    "    \n",
    "\n",
    "    # 最大標識を更新\n",
    "\n",
    "    max_label_last_time_point = np.max(labeled_image_unique)\n",
    "\n",
    "# リストをNumPy配列に変換\n",
    "\n",
    "labeled_images = np.array(labeled_images)\n",
    "\n",
    "# napariで標識付けされた画像を表示\n",
    "\n",
    "viewer.add_labels(labeled_images, name='labeled_images')\n",
    "\n",
    "viewer.layers['labeled_images'].scale = [15, 1, 1]\n",
    "\n",
    "# 標識付けされた領域の幾何中心を取得、データフレームに格納\n",
    "\n",
    "properties = ['label', 'centroid']\n",
    "\n",
    "props_df = pd.DataFrame(regionprops_table(labeled_images, properties=properties))\n",
    "\n",
    "# データフレームの最初の数行を表示\n",
    "\n",
    "props_df.head()\n",
    "\n"
   ]
  },
  {
   "cell_type": "code",
   "execution_count": null,
   "metadata": {},
   "outputs": [],
   "source": [
    "# データフレームをnapariの表示形式に再整形する：\n",
    "# 例：points = np.array([[0, 100, 100], [1, 200, 200], [2, 300, 100]])\n",
    "# まず座標の各次元の数値をそれぞれのリストにする\n",
    "\n",
    "centroid_0 = np.array(props_df['centroid-0'].to_list())\n",
    "\n",
    "centroid_1 = np.array(props_df['centroid-1'].to_list())\n",
    "\n",
    "centroid_2 = np.array(props_df['centroid-2'].to_list())\n",
    "\n",
    "# 次に、これらのリストを再結合させる\n",
    "\n",
    "points = np.column_stack((centroid_0, centroid_1, centroid_2))\n",
    "\n",
    "points\n",
    "\n"
   ]
  },
  {
   "cell_type": "code",
   "execution_count": 4,
   "metadata": {},
   "outputs": [],
   "source": [
    "# 点群をnapariビューアに点群レイヤーとして追加する\n",
    "\n",
    "points_layer = viewer.add_points(points, size=10, name='centroids')\n",
    "\n",
    "# 点群レイヤーのスケールを画像レイヤーと同じように調整する\n",
    "\n",
    "viewer.layers['centroids'].scale = [15, 1, 1]\n",
    "\n"
   ]
  },
  {
   "cell_type": "code",
   "execution_count": null,
   "metadata": {},
   "outputs": [],
   "source": [
    "# 点の色（フェイスカラー）をpoints_face_colorリストとして取得する\n",
    "\n",
    "new_points = points_layer.data\n",
    "\n",
    "points_face_color = points_layer.face_color\n",
    "\n",
    "# points_face_colorリスト内のユニークな値を取得する\n",
    "\n",
    "unique_colors = np.unique(points_face_color, axis=0)\n",
    "\n",
    "# 色の値を整数のcolor_idに変更する\n",
    "\n",
    "color_id = np.zeros(len(points_face_color), dtype=int)\n",
    "\n",
    "for i, color in enumerate(unique_colors):\n",
    "\n",
    "    color_id[(points_face_color == color).all(axis=1)] = i\n",
    "\n",
    "# 細胞の軌跡のデータフレームにcolor_idを追加する\n",
    "\n",
    "new_points_df = pd.DataFrame(new_points)\n",
    "\n",
    "new_points_df['color_id'] = color_id\n",
    "\n",
    "# 列の名前Dim-0, 1, 2をわかりやすい名前t,y,xに変える\n",
    "\n",
    "new_points_df.columns = ['t', 'y', 'x', 'color_id']\n",
    "\n",
    "# データフレームの最初の数行を表示する\n",
    "\n",
    "new_points_df.head()\n"
   ]
  },
  {
   "cell_type": "markdown",
   "metadata": {},
   "source": [
    "## 軌跡レイヤー (Tracks Layer)"
   ]
  },
  {
   "cell_type": "code",
   "execution_count": null,
   "metadata": {},
   "outputs": [],
   "source": [
    "# Track Dataframeを編成: new_points_dfのcolor_id列を最初の列に移動し、列名を'track_id'に変更\n",
    "\n",
    "tracks_df = new_points_df[['color_id', 't', 'y', 'x']]\n",
    "\n",
    "tracks_df.columns = ['track_id', 't', 'y', 'x']\n",
    "\n",
    "# Track Dataframeを保存\n",
    "tracks_df.to_csv('trackdata.csv', index=False)\n",
    "\n",
    "tracks_df.head()\n"
   ]
  },
  {
   "cell_type": "code",
   "execution_count": 7,
   "metadata": {},
   "outputs": [],
   "source": [
    "# 軌跡レイヤーの追加\n",
    "\n",
    "tracks = viewer.add_tracks(tracks_df, name='tracks')\n",
    "\n",
    "# 軌跡レイヤーのスケールを画像レイヤーと同じになるように調整する\n",
    "\n",
    "viewer.layers['tracks'].scale = [15, 1, 1]\n"
   ]
  },
  {
   "cell_type": "code",
   "execution_count": 8,
   "metadata": {},
   "outputs": [],
   "source": [
    "# グラフを定義\n",
    "\n",
    "graph = {\n",
    "\n",
    "    0: [3],\n",
    "\n",
    "    1: [3],\n",
    "\n",
    "    2: [3],\n",
    "\n",
    "}\n",
    "\n",
    "# グラフをnapari add_tracksに追加\n",
    "\n",
    "connected_tracks = viewer.add_tracks(tracks_df, graph=graph, name='connected_tracks')\n",
    "\n",
    "viewer.layers['connected_tracks'].scale = [15, 1, 1]\n"
   ]
  },
  {
   "cell_type": "code",
   "execution_count": 9,
   "metadata": {},
   "outputs": [],
   "source": [
    "# napariビューアを閉じる\n",
    "\n",
    "viewer.close()\n",
    "\n",
    "# 軌跡データフレームを保存する\n",
    "\n",
    "tracks_df.to_csv('tracks.csv', index=False)\n",
    "\n",
    "# グラフを保存する\n",
    "\n",
    "import pickle\n",
    "\n",
    "with open('graph.pkl', 'wb') as f:\n",
    "    \n",
    "    pickle.dump(graph, f)\n"
   ]
  },
  {
   "cell_type": "code",
   "execution_count": null,
   "metadata": {},
   "outputs": [],
   "source": [
    "# 画像の読み込み\n",
    "\n",
    "sample_image = imread('sample_images/particle_tracking_sample.tif')\n",
    "\n",
    "# 保存した軌跡データフレームを読み込む\n",
    "tracks_df = pd.read_csv('tracks.csv')\n",
    "\n",
    "# 保存したグラフを読み込む\n",
    "with open('graph.pkl', 'rb') as f:\n",
    "    \n",
    "    graph = pickle.load(f)\n",
    "\n",
    "# 画像をnapariで表示\n",
    "\n",
    "viewer = napari.Viewer()\n",
    "\n",
    "viewer.add_image(sample_image, name='sample_image')\n",
    "\n",
    "# タイムラプス視覚化のため、時間の次元をスケーリング\n",
    "\n",
    "viewer.layers['sample_image'].scale = [15, 1, 1]\n",
    "\n",
    "# 軌跡レイヤーを追加\n",
    "tracks = viewer.add_tracks(tracks_df, name='tracks', graph=graph)\n",
    "\n",
    "viewer.layers['tracks'].scale = [15, 1, 1]"
   ]
  },
  {
   "cell_type": "markdown",
   "metadata": {},
   "source": [
    "## 形状レイヤー (Shape Layer)"
   ]
  },
  {
   "cell_type": "code",
   "execution_count": null,
   "metadata": {},
   "outputs": [],
   "source": [
    "import napari\n",
    "\n",
    "import numpy as np\n",
    "\n",
    "# 三角形と長方形の頂点座標を定義\n",
    "\n",
    "triangle = np.array([[10, 200], [50, 50], [200, 80]])\n",
    "\n",
    "rectangle = np.array([[40, 40], [40, 80], [80, 80], [80, 40]])\n",
    "\n",
    "# 三角形と長方形をnapariビューアに形状レイヤーとして追加\n",
    "\n",
    "viewer = napari.Viewer()\n",
    "\n",
    "# 三角形を追加\n",
    "\n",
    "triangle_layer = viewer.add_shapes([triangle], shape_type='polygon', edge_color='red', face_color='blue', name='triangle')\n",
    "\n",
    "# 長方形を追加\n",
    "\n",
    "rectangle_layer = viewer.add_shapes([rectangle], shape_type='polygon', edge_color='green', face_color='yellow', name='rectangle')\n",
    "\n"
   ]
  },
  {
   "cell_type": "code",
   "execution_count": null,
   "metadata": {},
   "outputs": [],
   "source": [
    "# blood_vessel_sample.tif を読み込む\n",
    "\n",
    "from skimage.io import imread\n",
    "\n",
    "import napari\n",
    "\n",
    "blood_vessels = imread('sample_images/blood_vessel_sample.tif')\n",
    "\n",
    "# 画像を表示する\n",
    "\n",
    "viewer = napari.Viewer()\n",
    "\n",
    "blood_vessels_image = viewer.add_image(blood_vessels, name='blood_vessels')\n"
   ]
  },
  {
   "cell_type": "code",
   "execution_count": null,
   "metadata": {},
   "outputs": [],
   "source": [
    "# viewer.layers['blood_vessel_trace']からトレースデータを取得\n",
    "trace_data = viewer.layers['blood_vessel_trace'].data\n",
    "\n",
    "# トレースデータをnumpy arrayに変換\n",
    "# [0]: ここでは、一番最初に描いた血管のデータのみ輸出\n",
    "trace_data_np_array = np.array(trace_data[0])\n",
    "\n",
    "# trace_data_np_arrayの各次元のサイズを確認\n",
    "print(f'trace_data_np_arrayの各次元のサイズは: {trace_data_np_array.shape}')\n",
    "\n",
    "import pandas as pd\n",
    "# trace_data_np_arrayからDataFrameを作成\n",
    "trace_data_df = pd.DataFrame(trace_data_np_array, columns=['z', 'y', 'x'])\n",
    "trace_data_df.head()\n",
    "\n",
    "# DataFrameをcsvファイルとして保存\n",
    "trace_data_df.to_csv('trace_data.csv', index=False)\n",
    "\n"
   ]
  }
 ],
 "metadata": {
  "kernelspec": {
   "display_name": "bioimage-analysis",
   "language": "python",
   "name": "python3"
  },
  "language_info": {
   "codemirror_mode": {
    "name": "ipython",
    "version": 3
   },
   "file_extension": ".py",
   "mimetype": "text/x-python",
   "name": "python",
   "nbconvert_exporter": "python",
   "pygments_lexer": "ipython3",
   "version": "3.11.11"
  }
 },
 "nbformat": 4,
 "nbformat_minor": 4
}
